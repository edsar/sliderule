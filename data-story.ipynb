{
 "cells": [
  {
   "cell_type": "code",
   "execution_count": null,
   "metadata": {
    "collapsed": true
   },
   "outputs": [],
   "source": [
    "# title:   Telling stories about WA state marijuana business\n",
    "# author:  Ed Sarausad         \n",
    "# date:    11/8/2015\n",
    "# desc:    Looking at a unique dataset acquired via public record request, \n",
    "#          explore the nature of marijuana license applicants    "
   ]
  },
  {
   "cell_type": "code",
   "execution_count": 17,
   "metadata": {
    "collapsed": false
   },
   "outputs": [],
   "source": [
    "import pandas as pd\n",
    "import json\n",
    "from ggplot import *\n",
    "# %ggplot inline can't do this!\n",
    "%matplotlib inline"
   ]
  },
  {
   "cell_type": "code",
   "execution_count": 2,
   "metadata": {
    "collapsed": true
   },
   "outputs": [],
   "source": [
    "#read some data\n",
    "csv_comb_url = \"https://www.dropbox.com/s/o6ezbptdmm31xoj/MarijunaApplicantsCombined.csv?dl=1\"\n",
    "mj_biz_df = pd.read_csv(csv_comb_url)\n"
   ]
  },
  {
   "cell_type": "code",
   "execution_count": 3,
   "metadata": {
    "collapsed": false
   },
   "outputs": [
    {
     "data": {
      "text/plain": [
       "Index([u'Tradename', u'LicenseNo', u'UBI', u'StreetAddress', u'Suite', u'City',\n",
       "       u'State', u'County', u'ZipCode', u'MailAddress', u'MailSuite',\n",
       "       u'MailCity', u'MailState', u'MailZipCode', u'PrivDesc',\n",
       "       u'PrivilegeStatus', u'ReasonAction', u'StatusDate', u'DayPhone',\n",
       "       u'NightPhone', u'OwnerName', u'Email'],\n",
       "      dtype='object')"
      ]
     },
     "execution_count": 3,
     "metadata": {},
     "output_type": "execute_result"
    }
   ],
   "source": [
    "#explore\n",
    "mj_biz_df.columns\n"
   ]
  },
  {
   "cell_type": "code",
   "execution_count": 4,
   "metadata": {
    "collapsed": false
   },
   "outputs": [
    {
     "data": {
      "text/html": [
       "<div>\n",
       "<table border=\"1\" class=\"dataframe\">\n",
       "  <thead>\n",
       "    <tr style=\"text-align: right;\">\n",
       "      <th></th>\n",
       "      <th>LicenseNo</th>\n",
       "      <th>UBI</th>\n",
       "      <th>ZipCode</th>\n",
       "      <th>MailZipCode</th>\n",
       "    </tr>\n",
       "  </thead>\n",
       "  <tbody>\n",
       "    <tr>\n",
       "      <th>count</th>\n",
       "      <td>3848.000000</td>\n",
       "      <td>3.848000e+03</td>\n",
       "      <td>3.848000e+03</td>\n",
       "      <td>3.848000e+03</td>\n",
       "    </tr>\n",
       "    <tr>\n",
       "      <th>mean</th>\n",
       "      <td>414197.219595</td>\n",
       "      <td>6.029087e+15</td>\n",
       "      <td>9.665543e+08</td>\n",
       "      <td>9.451521e+08</td>\n",
       "    </tr>\n",
       "    <tr>\n",
       "      <th>std</th>\n",
       "      <td>14947.984118</td>\n",
       "      <td>1.158027e+14</td>\n",
       "      <td>1.372540e+08</td>\n",
       "      <td>1.933074e+08</td>\n",
       "    </tr>\n",
       "    <tr>\n",
       "      <th>min</th>\n",
       "      <td>59974.000000</td>\n",
       "      <td>0.000000e+00</td>\n",
       "      <td>0.000000e+00</td>\n",
       "      <td>9.800100e+04</td>\n",
       "    </tr>\n",
       "    <tr>\n",
       "      <th>25%</th>\n",
       "      <td>412902.000000</td>\n",
       "      <td>6.033338e+15</td>\n",
       "      <td>9.824883e+08</td>\n",
       "      <td>9.811308e+08</td>\n",
       "    </tr>\n",
       "    <tr>\n",
       "      <th>50%</th>\n",
       "      <td>415688.000000</td>\n",
       "      <td>6.033520e+15</td>\n",
       "      <td>9.857728e+08</td>\n",
       "      <td>9.833891e+08</td>\n",
       "    </tr>\n",
       "    <tr>\n",
       "      <th>75%</th>\n",
       "      <td>416610.250000</td>\n",
       "      <td>6.033585e+15</td>\n",
       "      <td>9.885900e+08</td>\n",
       "      <td>9.868296e+08</td>\n",
       "    </tr>\n",
       "    <tr>\n",
       "      <th>max</th>\n",
       "      <td>420130.000000</td>\n",
       "      <td>6.035314e+15</td>\n",
       "      <td>9.988000e+08</td>\n",
       "      <td>9.980100e+08</td>\n",
       "    </tr>\n",
       "  </tbody>\n",
       "</table>\n",
       "</div>"
      ],
      "text/plain": [
       "           LicenseNo           UBI       ZipCode   MailZipCode\n",
       "count    3848.000000  3.848000e+03  3.848000e+03  3.848000e+03\n",
       "mean   414197.219595  6.029087e+15  9.665543e+08  9.451521e+08\n",
       "std     14947.984118  1.158027e+14  1.372540e+08  1.933074e+08\n",
       "min     59974.000000  0.000000e+00  0.000000e+00  9.800100e+04\n",
       "25%    412902.000000  6.033338e+15  9.824883e+08  9.811308e+08\n",
       "50%    415688.000000  6.033520e+15  9.857728e+08  9.833891e+08\n",
       "75%    416610.250000  6.033585e+15  9.885900e+08  9.868296e+08\n",
       "max    420130.000000  6.035314e+15  9.988000e+08  9.980100e+08"
      ]
     },
     "execution_count": 4,
     "metadata": {},
     "output_type": "execute_result"
    }
   ],
   "source": [
    "mj_biz_df.describe()"
   ]
  },
  {
   "cell_type": "code",
   "execution_count": 5,
   "metadata": {
    "collapsed": false
   },
   "outputs": [
    {
     "name": "stdout",
     "output_type": "stream",
     "text": [
      "<class 'pandas.core.frame.DataFrame'>\n",
      "Int64Index: 3848 entries, 0 to 3847\n",
      "Data columns (total 22 columns):\n",
      "Tradename          3848 non-null object\n",
      "LicenseNo          3848 non-null int64\n",
      "UBI                3848 non-null int64\n",
      "StreetAddress      3848 non-null object\n",
      "Suite              3848 non-null object\n",
      "City               3848 non-null object\n",
      "State              3848 non-null object\n",
      "County             3845 non-null object\n",
      "ZipCode            3848 non-null int64\n",
      "MailAddress        3848 non-null object\n",
      "MailSuite          3848 non-null object\n",
      "MailCity           3848 non-null object\n",
      "MailState          3848 non-null object\n",
      "MailZipCode        3848 non-null int64\n",
      "PrivDesc           3848 non-null object\n",
      "PrivilegeStatus    3848 non-null object\n",
      "ReasonAction       3848 non-null object\n",
      "StatusDate         3848 non-null object\n",
      "DayPhone           3848 non-null object\n",
      "NightPhone         3848 non-null object\n",
      "OwnerName          3844 non-null object\n",
      "Email              3807 non-null object\n",
      "dtypes: int64(4), object(18)\n",
      "memory usage: 691.4+ KB\n"
     ]
    }
   ],
   "source": [
    "mj_biz_df.info()"
   ]
  },
  {
   "cell_type": "code",
   "execution_count": 6,
   "metadata": {
    "collapsed": false
   },
   "outputs": [
    {
     "data": {
      "text/plain": [
       "<ggplot: (279853009)>"
      ]
     },
     "execution_count": 6,
     "metadata": {},
     "output_type": "execute_result"
    }
   ],
   "source": [
    "ggplot(aes(x=\"County\"), data=mj_biz_df) + geom_bar() # too many x values!"
   ]
  },
  {
   "cell_type": "code",
   "execution_count": 10,
   "metadata": {
    "collapsed": false
   },
   "outputs": [
    {
     "data": {
      "text/plain": [
       "<ggplot: (268842201)>"
      ]
     },
     "execution_count": 10,
     "metadata": {},
     "output_type": "execute_result"
    }
   ],
   "source": [
    "ggplot(aes(x=\"City\"), data=mj_biz_df) + geom_bar() # waaaay too many x values!"
   ]
  },
  {
   "cell_type": "code",
   "execution_count": 13,
   "metadata": {
    "collapsed": false
   },
   "outputs": [
    {
     "data": {
      "text/html": [
       "<div>\n",
       "<table border=\"1\" class=\"dataframe\">\n",
       "  <thead>\n",
       "    <tr style=\"text-align: right;\">\n",
       "      <th></th>\n",
       "      <th>0</th>\n",
       "    </tr>\n",
       "  </thead>\n",
       "  <tbody>\n",
       "    <tr>\n",
       "      <th>KING</th>\n",
       "      <td>487</td>\n",
       "    </tr>\n",
       "    <tr>\n",
       "      <th>SPOKANE</th>\n",
       "      <td>387</td>\n",
       "    </tr>\n",
       "    <tr>\n",
       "      <th>SNOHOMISH</th>\n",
       "      <td>314</td>\n",
       "    </tr>\n",
       "    <tr>\n",
       "      <th>THURSTON</th>\n",
       "      <td>250</td>\n",
       "    </tr>\n",
       "    <tr>\n",
       "      <th>WHATCOM</th>\n",
       "      <td>206</td>\n",
       "    </tr>\n",
       "    <tr>\n",
       "      <th>PIERCE</th>\n",
       "      <td>201</td>\n",
       "    </tr>\n",
       "    <tr>\n",
       "      <th>OKANOGAN</th>\n",
       "      <td>174</td>\n",
       "    </tr>\n",
       "    <tr>\n",
       "      <th>GRANT</th>\n",
       "      <td>139</td>\n",
       "    </tr>\n",
       "    <tr>\n",
       "      <th>CLARK</th>\n",
       "      <td>127</td>\n",
       "    </tr>\n",
       "    <tr>\n",
       "      <th>YAKIMA</th>\n",
       "      <td>117</td>\n",
       "    </tr>\n",
       "  </tbody>\n",
       "</table>\n",
       "</div>"
      ],
      "text/plain": [
       "             0\n",
       "KING       487\n",
       "SPOKANE    387\n",
       "SNOHOMISH  314\n",
       "THURSTON   250\n",
       "WHATCOM    206\n",
       "PIERCE     201\n",
       "OKANOGAN   174\n",
       "GRANT      139\n",
       "CLARK      127\n",
       "YAKIMA     117"
      ]
     },
     "execution_count": 13,
     "metadata": {},
     "output_type": "execute_result"
    }
   ],
   "source": [
    "# let's look at some top 10's starting with Counties with the most marijuana businesses\n",
    "top10counties = pd.DataFrame(mj_biz_df[[\"County\"]].stack().value_counts()[:10])\n",
    "top10counties"
   ]
  },
  {
   "cell_type": "code",
   "execution_count": 14,
   "metadata": {
    "collapsed": false
   },
   "outputs": [
    {
     "data": {
      "text/html": [
       "<div>\n",
       "<table border=\"1\" class=\"dataframe\">\n",
       "  <thead>\n",
       "    <tr style=\"text-align: right;\">\n",
       "      <th></th>\n",
       "      <th>0</th>\n",
       "    </tr>\n",
       "  </thead>\n",
       "  <tbody>\n",
       "    <tr>\n",
       "      <th>SEATTLE</th>\n",
       "      <td>268</td>\n",
       "    </tr>\n",
       "    <tr>\n",
       "      <th>SPOKANE</th>\n",
       "      <td>138</td>\n",
       "    </tr>\n",
       "    <tr>\n",
       "      <th>TACOMA</th>\n",
       "      <td>138</td>\n",
       "    </tr>\n",
       "    <tr>\n",
       "      <th>BELLINGHAM</th>\n",
       "      <td>108</td>\n",
       "    </tr>\n",
       "    <tr>\n",
       "      <th>OLYMPIA</th>\n",
       "      <td>95</td>\n",
       "    </tr>\n",
       "    <tr>\n",
       "      <th>ARLINGTON</th>\n",
       "      <td>92</td>\n",
       "    </tr>\n",
       "    <tr>\n",
       "      <th>VANCOUVER</th>\n",
       "      <td>70</td>\n",
       "    </tr>\n",
       "    <tr>\n",
       "      <th>SPOKANE VALLEY</th>\n",
       "      <td>70</td>\n",
       "    </tr>\n",
       "    <tr>\n",
       "      <th>ELLENSBURG</th>\n",
       "      <td>62</td>\n",
       "    </tr>\n",
       "    <tr>\n",
       "      <th>SHELTON</th>\n",
       "      <td>62</td>\n",
       "    </tr>\n",
       "  </tbody>\n",
       "</table>\n",
       "</div>"
      ],
      "text/plain": [
       "                            0\n",
       "SEATTLE                   268\n",
       "SPOKANE                   138\n",
       "TACOMA                    138\n",
       "BELLINGHAM                108\n",
       "OLYMPIA                    95\n",
       "ARLINGTON                  92\n",
       "VANCOUVER                  70\n",
       "SPOKANE VALLEY             70\n",
       "ELLENSBURG                 62\n",
       "SHELTON                    62"
      ]
     },
     "execution_count": 14,
     "metadata": {},
     "output_type": "execute_result"
    }
   ],
   "source": [
    "top10cities = pd.DataFrame(mj_biz_df[[\"City\"]].stack().value_counts()[:10])\n",
    "top10cities"
   ]
  },
  {
   "cell_type": "code",
   "execution_count": 15,
   "metadata": {
    "collapsed": false
   },
   "outputs": [
    {
     "data": {
      "text/html": [
       "<div>\n",
       "<table border=\"1\" class=\"dataframe\">\n",
       "  <thead>\n",
       "    <tr style=\"text-align: right;\">\n",
       "      <th></th>\n",
       "      <th>0</th>\n",
       "    </tr>\n",
       "  </thead>\n",
       "  <tbody>\n",
       "    <tr>\n",
       "      <th>993440000</th>\n",
       "      <td>30</td>\n",
       "    </tr>\n",
       "    <tr>\n",
       "      <th>990040000</th>\n",
       "      <td>27</td>\n",
       "    </tr>\n",
       "    <tr>\n",
       "      <th>988550000</th>\n",
       "      <td>26</td>\n",
       "    </tr>\n",
       "    <tr>\n",
       "      <th>982260000</th>\n",
       "      <td>25</td>\n",
       "    </tr>\n",
       "    <tr>\n",
       "      <th>988480000</th>\n",
       "      <td>22</td>\n",
       "    </tr>\n",
       "    <tr>\n",
       "      <th>984090000</th>\n",
       "      <td>22</td>\n",
       "    </tr>\n",
       "    <tr>\n",
       "      <th>985840000</th>\n",
       "      <td>21</td>\n",
       "    </tr>\n",
       "    <tr>\n",
       "      <th>989260000</th>\n",
       "      <td>19</td>\n",
       "    </tr>\n",
       "    <tr>\n",
       "      <th>992120000</th>\n",
       "      <td>19</td>\n",
       "    </tr>\n",
       "    <tr>\n",
       "      <th>985772917</th>\n",
       "      <td>19</td>\n",
       "    </tr>\n",
       "  </tbody>\n",
       "</table>\n",
       "</div>"
      ],
      "text/plain": [
       "            0\n",
       "993440000  30\n",
       "990040000  27\n",
       "988550000  26\n",
       "982260000  25\n",
       "988480000  22\n",
       "984090000  22\n",
       "985840000  21\n",
       "989260000  19\n",
       "992120000  19\n",
       "985772917  19"
      ]
     },
     "execution_count": 15,
     "metadata": {},
     "output_type": "execute_result"
    }
   ],
   "source": [
    "top10zips = pd.DataFrame(mj_biz_df[[\"ZipCode\"]].stack().value_counts()[:10])\n",
    "top10zips"
   ]
  },
  {
   "cell_type": "code",
   "execution_count": 18,
   "metadata": {
    "collapsed": false
   },
   "outputs": [
    {
     "data": {
      "text/plain": [
       "<matplotlib.axes._subplots.AxesSubplot at 0x11544ebd0>"
      ]
     },
     "execution_count": 18,
     "metadata": {},
     "output_type": "execute_result"
    },
    {
     "data": {
      "image/png": "[encoded data removed]",
      "text/plain": [
       "<matplotlib.figure.Figure at 0x1138d8f90>"
      ]
     },
     "metadata": {},
     "output_type": "display_data"
    },
    {
     "data": {
      "image/png": "[encoded data removed]",
      "text/plain": [
       "<matplotlib.figure.Figure at 0x1138d8ed0>"
      ]
     },
     "metadata": {},
     "output_type": "display_data"
    },
    {
     "data": {
      "image/png": "[encoded data removed]",
      "text/plain": [
       "<matplotlib.figure.Figure at 0x1138d8f10>"
      ]
     },
     "metadata": {},
     "output_type": "display_data"
    }
   ],
   "source": [
    "top10counties.plot(kind='bar')\n",
    "top10cities.plot(kind='bar')\n",
    "top10zips.plot(kind='bar')"
   ]
  },
  {
   "cell_type": "code",
   "execution_count": 19,
   "metadata": {
    "collapsed": false
   },
   "outputs": [
    {
     "data": {
      "text/plain": [
       "RODRIGUEZ,  JUAN                     8\n",
       "TOKELAND GROWING, LLC                6\n",
       "SPINNING HEADS, INC.                 6\n",
       "GENSYS ONE CORPORATION               6\n",
       "THE BUD CLUB, LLC                    6\n",
       "ALIS GROUP, LLC                      6\n",
       "NW BAKERY SERVICES, LLC              6\n",
       "BIDWELL,  ROBIN  LUELL               6\n",
       "MOMMA CHAN LLC                       6\n",
       "VERT CORPORATION                     6\n",
       "HYDRO EMPIRE LLC                     6\n",
       "CASCADE CROPS, LLC                   6\n",
       "HARMONY FARMS LLC                    6\n",
       "THE GREEN GREEN GRASS OF HOME LLC    6\n",
       "MNS - PNP, LLC                       6\n",
       "AGAPE RESEARCH WA, LLC               6\n",
       "CANNASOL FARMS INCORPORATED          6\n",
       "PATRIOT MEDS LLC                     6\n",
       "FRENCHMAN COULEE LLC                 6\n",
       "WOODPEG, INC                         6\n",
       "dtype: int64"
      ]
     },
     "execution_count": 19,
     "metadata": {},
     "output_type": "execute_result"
    }
   ],
   "source": [
    "#\n",
    "#  Can the owner names tell us anything about their gender? Are business owners mostly male or female? \n",
    "#\n",
    "#  Attribution: https://stephenholiday.com/articles/2011/gender-prediction-with-python/ (stephen.holiday@gmail.com)\n",
    "mj_biz_df[[\"OwnerName\"]].stack().value_counts()[:20]\n",
    "#\n",
    "# First we'll look at the most common business owner names looking for kingpins\n"
   ]
  },
  {
   "cell_type": "code",
   "execution_count": 20,
   "metadata": {
    "collapsed": false
   },
   "outputs": [
    {
     "data": {
      "text/plain": [
       "0                    [admin, 221inc.com]\n",
       "1             [lottyknowlton, gmail.com]\n",
       "2       [IAN.OHMCDONALDFARMS, GMAIL.COM]\n",
       "3       [IAN.OHMCDONALDFARMS, GMAIL.COM]\n",
       "4            [1212GARDENSLLC, GMAIL.COM]\n",
       "5            [1212GARDENSLLC, GMAIL.COM]\n",
       "6               [maxscholder, gmail.com]\n",
       "7       [bobmccausland2223, comcast.net]\n",
       "8       [bobmccausland2223, comcast.net]\n",
       "9              [TLOZANO36277, YAHOO.COM]\n",
       "10             [troy, i502solutions.com]\n",
       "11               [jkstraight, gmail.com]\n",
       "12               [jkstraight, gmail.com]\n",
       "13           [Sangha.Tanveer, gmail.com]\n",
       "14           [Sangha.Tanveer, gmail.com]\n",
       "15           [Sangha.Tanveer, gmail.com]\n",
       "16           [Sangha.Tanveer, gmail.com]\n",
       "17             [bjohnson7851, gmail.com]\n",
       "18             [bjohnson7851, gmail.com]\n",
       "19           [ASHA.GUNABALAN, GMAIL.COM]\n",
       "20        [Champagneproducts, gmail.com]\n",
       "21               [zachstimac, gmail.com]\n",
       "22               [bart, biochroninc.com]\n",
       "23               [zachstimac, gmail.com]\n",
       "24               [bart, biochroninc.com]\n",
       "25                [fusionplus1, aol.com]\n",
       "26                [fusionplus1, aol.com]\n",
       "27                                   NaN\n",
       "28               [DHALAIANDY, GMAIL.COM]\n",
       "29                  [deannek10, msn.com]\n",
       "                      ...               \n",
       "3818            [warrenlubow, clear.net]\n",
       "3819              [rkwren, frontier.com]\n",
       "3820         [jimpotpalace, hotmail.com]\n",
       "3821     [Doug.wwagriculture, gmail.com]\n",
       "3822     [Doug.wwagriculture, gmail.com]\n",
       "3823          [WWAgriculture, gmail.com]\n",
       "3824          [WWAgriculture, gmail.com]\n",
       "3825                [jim, x-tracted.com]\n",
       "3826              [yangsop88, gmail.com]\n",
       "3827          [YARDBIRDSTEVE, GMAIL.COM]\n",
       "3828          [YARDBIRDSTEVE, GMAIL.COM]\n",
       "3829             [bhamilton, wamoil.com]\n",
       "3830             [bhamilton, wamoil.com]\n",
       "3831             [bhamilton, wamoil.com]\n",
       "3832             [bhamilton, wamoil.com]\n",
       "3833             [bhamilton, wamoil.com]\n",
       "3834             [bhamilton, wamoil.com]\n",
       "3835           [theboss, dopeshoppe.com]\n",
       "3836           [yieldfarms, outlook.com]\n",
       "3837           [yieldfarms, outlook.com]\n",
       "3838                [abdhamlet, aol.com]\n",
       "3839                [abdhamlet, aol.com]\n",
       "3840                [abdhamlet, aol.com]\n",
       "3841                [abdhamlet, aol.com]\n",
       "3842          [adampham747, hotmail.com]\n",
       "3843          [adampham747, hotmail.com]\n",
       "3844          [grandpabudllc, gmail.com]\n",
       "3845          [grandpabudllc, gmail.com]\n",
       "3846               [zuberinc, gmail.com]\n",
       "3847                [zuberinc, juno.com]\n",
       "Name: mail domain, dtype: object"
      ]
     },
     "execution_count": 20,
     "metadata": {},
     "output_type": "execute_result"
    }
   ],
   "source": [
    "mj_biz_df[\"mail domain\"] = mj_biz_df[\"Email\"].str.split(\"@\")\n",
    "mj_biz_df[\"mail domain\"]"
   ]
  },
  {
   "cell_type": "code",
   "execution_count": 21,
   "metadata": {
    "collapsed": false
   },
   "outputs": [
    {
     "data": {
      "text/html": [
       "<div>\n",
       "<table border=\"1\" class=\"dataframe\">\n",
       "  <thead>\n",
       "    <tr style=\"text-align: right;\">\n",
       "      <th></th>\n",
       "      <th>State</th>\n",
       "      <th>*HIDTA*</th>\n",
       "      <th>HIDTA Counties</th>\n",
       "      <th>Number of Counties</th>\n",
       "    </tr>\n",
       "  </thead>\n",
       "  <tbody>\n",
       "    <tr>\n",
       "      <th>54</th>\n",
       "      <td>Washington</td>\n",
       "      <td>*Northwest* HIDTA</td>\n",
       "      <td>Benton, Clark, Cowlitz, Franklin, King, Kitsap...</td>\n",
       "      <td>14</td>\n",
       "    </tr>\n",
       "  </tbody>\n",
       "</table>\n",
       "</div>"
      ],
      "text/plain": [
       "         State            *HIDTA*  \\\n",
       "54  Washington  *Northwest* HIDTA   \n",
       "\n",
       "                                       HIDTA Counties  Number of Counties  \n",
       "54  Benton, Clark, Cowlitz, Franklin, King, Kitsap...                  14  "
      ]
     },
     "execution_count": 21,
     "metadata": {},
     "output_type": "execute_result"
    }
   ],
   "source": [
    "#\n",
    "#  The federal government publishes a list of High-Intensity Drug Trafficking Area (HIDTA). How many of these businesses\n",
    "#  are located in HIDTA counties?\n",
    "#\n",
    "hidta_df = pd.read_csv(\"https://www.dropbox.com/s/7zhmi5h3ysgfjdx/HIDTA.csv?dl=1\")\n",
    "\n",
    "hidta_df[hidta_df.State==\"Washington\"]"
   ]
  }
 ],
 "metadata": {
  "kernelspec": {
   "display_name": "Python 2",
   "language": "python",
   "name": "python2"
  },
  "language_info": {
   "codemirror_mode": {
    "name": "ipython",
    "version": 2
   },
   "file_extension": ".py",
   "mimetype": "text/x-python",
   "name": "python",
   "nbconvert_exporter": "python",
   "pygments_lexer": "ipython2",
   "version": "2.7.10"
  }
 },
 "nbformat": 4,
 "nbformat_minor": 0
}
