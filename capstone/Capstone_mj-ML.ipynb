{
 "cells": [
  {
   "cell_type": "code",
   "execution_count": 52,
   "metadata": {
    "collapsed": true
   },
   "outputs": [],
   "source": [
    "%matplotlib inline\n",
    "import pandas as pd\n",
    "import sys\n",
    "import numpy as np\n",
    "from __future__ import division\n",
    "from sklearn import tree\n",
    "from sklearn.ensemble import RandomForestClassifier\n",
    "from sklearn.ensemble import ExtraTreesClassifier\n",
    "from sklearn.ensemble import AdaBoostClassifier\n",
    "from sklearn.naive_bayes import GaussianNB\n",
    "from sklearn import cross_validation\n",
    "from sklearn.metrics import accuracy_score\n",
    "from sklearn.learning_curve import learning_curve\n",
    "from sklearn.svm import SVC\n",
    "from sklearn import linear_model\n",
    "from sklearn.learning_curve import validation_curve\n",
    "import matplotlib.pyplot as plt\n",
    "from sklearn import svm, datasets\n",
    "from sklearn.metrics import roc_curve, auc\n",
    "from sklearn.cross_validation import train_test_split\n",
    "from sklearn.preprocessing import label_binarize\n",
    "from sklearn.multiclass import OneVsRestClassifier\n",
    "from sklearn.cross_validation import StratifiedKFold\n",
    "from scipy import interp"
   ]
  },
  {
   "cell_type": "code",
   "execution_count": 2,
   "metadata": {
    "collapsed": true
   },
   "outputs": [],
   "source": [
    "applicants = pd.read_csv(\"https://www.dropbox.com/s/s168am9a1iknwi8/applicants_transformed.csv?dl=1\")"
   ]
  },
  {
   "cell_type": "code",
   "execution_count": 67,
   "metadata": {
    "collapsed": false
   },
   "outputs": [
    {
     "name": "stdout",
     "output_type": "stream",
     "text": [
      "<class 'pandas.core.frame.DataFrame'>\n",
      "Int64Index: 5903 entries, 0 to 5902\n",
      "Data columns (total 42 columns):\n",
      "Unnamed: 0            5903 non-null int64\n",
      "License_Number        5903 non-null int64\n",
      "X                     5903 non-null int64\n",
      "City                  5903 non-null object\n",
      "City.1                5171 non-null object\n",
      "County                5893 non-null object\n",
      "DateCreated           5150 non-null float64\n",
      "DayPhone              5899 non-null float64\n",
      "Email                 5806 non-null object\n",
      "License.              5903 non-null int64\n",
      "Mail.Suite.Rm         5171 non-null object\n",
      "MailAddress           5903 non-null object\n",
      "MailCity              732 non-null object\n",
      "MailState             732 non-null object\n",
      "MailSuite.Rm          732 non-null object\n",
      "MailZipCode           732 non-null float64\n",
      "NightPhone            5883 non-null float64\n",
      "OwnerName             5893 non-null object\n",
      "PrivDesc              5903 non-null object\n",
      "PrivilegeStatus       5903 non-null object\n",
      "ReasonAction          5903 non-null object\n",
      "State                 5903 non-null object\n",
      "State.1               5171 non-null object\n",
      "StatusDate            728 non-null float64\n",
      "StreetAddress         5903 non-null object\n",
      "Suite.Rm              5903 non-null object\n",
      "Tradename             5903 non-null object\n",
      "UBI                   5903 non-null int64\n",
      "ZipCode               5902 non-null float64\n",
      "ZipCode.1             5171 non-null float64\n",
      "type:medical          5903 non-null int64\n",
      "type:processor        5903 non-null int64\n",
      "type:producer         5903 non-null int64\n",
      "type:retailer         5903 non-null int64\n",
      "Group.1               1286 non-null float64\n",
      "Total_Sales           5903 non-null int64\n",
      "Excise_Tax_Due        5903 non-null float64\n",
      "tax_rate              5903 non-null float64\n",
      "violation_count       5903 non-null int64\n",
      "violator              5903 non-null bool\n",
      "log_Total_Sales       5903 non-null float64\n",
      "log_Excise_Tax_Due    5903 non-null float64\n",
      "dtypes: bool(1), float64(12), int64(11), object(18)\n",
      "memory usage: 1.9+ MB\n"
     ]
    },
    {
     "data": {
      "text/html": [
       "<div>\n",
       "<table border=\"1\" class=\"dataframe\">\n",
       "  <thead>\n",
       "    <tr style=\"text-align: right;\">\n",
       "      <th></th>\n",
       "      <th>Unnamed: 0</th>\n",
       "      <th>License_Number</th>\n",
       "      <th>X</th>\n",
       "      <th>City</th>\n",
       "      <th>City.1</th>\n",
       "      <th>County</th>\n",
       "      <th>DateCreated</th>\n",
       "      <th>DayPhone</th>\n",
       "      <th>Email</th>\n",
       "      <th>License.</th>\n",
       "      <th>...</th>\n",
       "      <th>type:producer</th>\n",
       "      <th>type:retailer</th>\n",
       "      <th>Group.1</th>\n",
       "      <th>Total_Sales</th>\n",
       "      <th>Excise_Tax_Due</th>\n",
       "      <th>tax_rate</th>\n",
       "      <th>violation_count</th>\n",
       "      <th>violator</th>\n",
       "      <th>log_Total_Sales</th>\n",
       "      <th>log_Excise_Tax_Due</th>\n",
       "    </tr>\n",
       "  </thead>\n",
       "  <tbody>\n",
       "    <tr>\n",
       "      <th>0</th>\n",
       "      <td>1</td>\n",
       "      <td>51124</td>\n",
       "      <td>89</td>\n",
       "      <td>TACOMA</td>\n",
       "      <td>NaN</td>\n",
       "      <td>PIERCE</td>\n",
       "      <td>NaN</td>\n",
       "      <td>2532928175</td>\n",
       "      <td>WORKCOURTNEY@GMAIL.COM</td>\n",
       "      <td>51124</td>\n",
       "      <td>...</td>\n",
       "      <td>0</td>\n",
       "      <td>0</td>\n",
       "      <td>NaN</td>\n",
       "      <td>0</td>\n",
       "      <td>0</td>\n",
       "      <td>0</td>\n",
       "      <td>0</td>\n",
       "      <td>False</td>\n",
       "      <td>-inf</td>\n",
       "      <td>-inf</td>\n",
       "    </tr>\n",
       "    <tr>\n",
       "      <th>1</th>\n",
       "      <td>2</td>\n",
       "      <td>59974</td>\n",
       "      <td>2035</td>\n",
       "      <td>SHELTON</td>\n",
       "      <td>SHELTON</td>\n",
       "      <td>MASON</td>\n",
       "      <td>20150903</td>\n",
       "      <td>3604905012</td>\n",
       "      <td>david.walterick@gmail.com</td>\n",
       "      <td>59974</td>\n",
       "      <td>...</td>\n",
       "      <td>1</td>\n",
       "      <td>0</td>\n",
       "      <td>NaN</td>\n",
       "      <td>0</td>\n",
       "      <td>0</td>\n",
       "      <td>0</td>\n",
       "      <td>0</td>\n",
       "      <td>False</td>\n",
       "      <td>-inf</td>\n",
       "      <td>-inf</td>\n",
       "    </tr>\n",
       "    <tr>\n",
       "      <th>2</th>\n",
       "      <td>3</td>\n",
       "      <td>59974</td>\n",
       "      <td>1494</td>\n",
       "      <td>SHELTON</td>\n",
       "      <td>SHELTON</td>\n",
       "      <td>MASON</td>\n",
       "      <td>20150903</td>\n",
       "      <td>3604905012</td>\n",
       "      <td>david.walterick@gmail.com</td>\n",
       "      <td>59974</td>\n",
       "      <td>...</td>\n",
       "      <td>0</td>\n",
       "      <td>0</td>\n",
       "      <td>NaN</td>\n",
       "      <td>0</td>\n",
       "      <td>0</td>\n",
       "      <td>0</td>\n",
       "      <td>0</td>\n",
       "      <td>False</td>\n",
       "      <td>-inf</td>\n",
       "      <td>-inf</td>\n",
       "    </tr>\n",
       "    <tr>\n",
       "      <th>3</th>\n",
       "      <td>4</td>\n",
       "      <td>59978</td>\n",
       "      <td>1019</td>\n",
       "      <td>OROVILLE</td>\n",
       "      <td>SILVERLAKE</td>\n",
       "      <td>OKANOGAN</td>\n",
       "      <td>20150904</td>\n",
       "      <td>3609015985</td>\n",
       "      <td>urbanfarms@yahoo.com</td>\n",
       "      <td>59978</td>\n",
       "      <td>...</td>\n",
       "      <td>1</td>\n",
       "      <td>0</td>\n",
       "      <td>NaN</td>\n",
       "      <td>0</td>\n",
       "      <td>0</td>\n",
       "      <td>0</td>\n",
       "      <td>0</td>\n",
       "      <td>False</td>\n",
       "      <td>-inf</td>\n",
       "      <td>-inf</td>\n",
       "    </tr>\n",
       "    <tr>\n",
       "      <th>4</th>\n",
       "      <td>5</td>\n",
       "      <td>59978</td>\n",
       "      <td>725</td>\n",
       "      <td>OROVILLE</td>\n",
       "      <td>SILVERLAKE</td>\n",
       "      <td>OKANOGAN</td>\n",
       "      <td>20150904</td>\n",
       "      <td>3609015985</td>\n",
       "      <td>urbanfarms@yahoo.com</td>\n",
       "      <td>59978</td>\n",
       "      <td>...</td>\n",
       "      <td>0</td>\n",
       "      <td>0</td>\n",
       "      <td>NaN</td>\n",
       "      <td>0</td>\n",
       "      <td>0</td>\n",
       "      <td>0</td>\n",
       "      <td>0</td>\n",
       "      <td>False</td>\n",
       "      <td>-inf</td>\n",
       "      <td>-inf</td>\n",
       "    </tr>\n",
       "  </tbody>\n",
       "</table>\n",
       "<p>5 rows × 42 columns</p>\n",
       "</div>"
      ],
      "text/plain": [
       "   Unnamed: 0  License_Number     X                      City  \\\n",
       "0           1           51124    89  TACOMA                     \n",
       "1           2           59974  2035  SHELTON                    \n",
       "2           3           59974  1494  SHELTON                    \n",
       "3           4           59978  1019  OROVILLE                   \n",
       "4           5           59978   725  OROVILLE                   \n",
       "\n",
       "                     City.1    County  DateCreated    DayPhone  \\\n",
       "0                       NaN    PIERCE          NaN  2532928175   \n",
       "1  SHELTON                      MASON     20150903  3604905012   \n",
       "2  SHELTON                      MASON     20150903  3604905012   \n",
       "3  SILVERLAKE                OKANOGAN     20150904  3609015985   \n",
       "4  SILVERLAKE                OKANOGAN     20150904  3609015985   \n",
       "\n",
       "                       Email  License.        ...         type:producer  \\\n",
       "0     WORKCOURTNEY@GMAIL.COM     51124        ...                     0   \n",
       "1  david.walterick@gmail.com     59974        ...                     1   \n",
       "2  david.walterick@gmail.com     59974        ...                     0   \n",
       "3       urbanfarms@yahoo.com     59978        ...                     1   \n",
       "4       urbanfarms@yahoo.com     59978        ...                     0   \n",
       "\n",
       "  type:retailer Group.1 Total_Sales Excise_Tax_Due  tax_rate  violation_count  \\\n",
       "0             0     NaN           0              0         0                0   \n",
       "1             0     NaN           0              0         0                0   \n",
       "2             0     NaN           0              0         0                0   \n",
       "3             0     NaN           0              0         0                0   \n",
       "4             0     NaN           0              0         0                0   \n",
       "\n",
       "  violator log_Total_Sales log_Excise_Tax_Due  \n",
       "0    False            -inf               -inf  \n",
       "1    False            -inf               -inf  \n",
       "2    False            -inf               -inf  \n",
       "3    False            -inf               -inf  \n",
       "4    False            -inf               -inf  \n",
       "\n",
       "[5 rows x 42 columns]"
      ]
     },
     "execution_count": 67,
     "metadata": {},
     "output_type": "execute_result"
    }
   ],
   "source": [
    "applicants[\"Total_Sales\"] = applicants[\"Total_Sales\"].astype('int')\n",
    "applicants.info()\n",
    "applicants.head()"
   ]
  },
  {
   "cell_type": "code",
   "execution_count": 73,
   "metadata": {
    "collapsed": false
   },
   "outputs": [],
   "source": [
    "features = applicants[[\"Total_Sales\", \"Excise_Tax_Due\", \"tax_rate\"]] # some logarithms are infinity due to negative original value?\n",
    "labels = applicants[\"violator\"]"
   ]
  },
  {
   "cell_type": "code",
   "execution_count": 35,
   "metadata": {
    "collapsed": false
   },
   "outputs": [
    {
     "data": {
      "image/png": "[encoded data removed]",
      "text/plain": [
       "<matplotlib.figure.Figure at 0x7f0e28364150>"
      ]
     },
     "metadata": {},
     "output_type": "display_data"
    }
   ],
   "source": [
    "plt.scatter(applicants[\"violation_count\"], applicants[\"Total_Sales\"], c='green', label='applicants',\n",
    "            alpha=0.3, edgecolors='none')\n",
    "\n",
    "plt.title('Violation_count to Total_Sales')\n",
    "plt.legend()\n",
    "plt.grid(True)\n",
    "\n",
    "plt.show()\n"
   ]
  },
  {
   "cell_type": "code",
   "execution_count": 74,
   "metadata": {
    "collapsed": true
   },
   "outputs": [],
   "source": [
    "features_train, features_test, labels_train, labels_test = cross_validation.train_test_split(features, labels, test_size=0.3) \n"
   ]
  },
  {
   "cell_type": "code",
   "execution_count": 103,
   "metadata": {
    "collapsed": false
   },
   "outputs": [
    {
     "name": "stdout",
     "output_type": "stream",
     "text": [
      "DecisionTreeClassifier accuracy :  0.961038961039\n"
     ]
    },
    {
     "data": {
      "image/png": "[encoded data removed]",
      "text/plain": [
       "<matplotlib.figure.Figure at 0x7f0e280c8110>"
      ]
     },
     "metadata": {},
     "output_type": "display_data"
    }
   ],
   "source": [
    "clf = tree.DecisionTreeClassifier(max_depth=None)\n",
    "clf.fit(features_train, labels_train) \n",
    "pred = clf.predict(features_test)\n",
    "print \"DecisionTreeClassifier accuracy : \" , accuracy_score(pred, labels_test)\n",
    "\n",
    "X = features\n",
    "y = labels\n",
    "\n",
    "X_train, X_test, y_train, y_test = cross_validation.train_test_split(X, y, test_size=0.3)\n",
    "\n",
    "# The model by itself\n",
    "y_pred = clf.predict_proba(X_test)[:, 1]\n",
    "fpr, tpr, _ = roc_curve(y_test, y_pred)\n",
    "\n",
    "plt.figure(1)\n",
    "plt.plot([0, 1], [0, 1], 'k--')\n",
    "plt.plot(fpr, tpr, label='DecisionTree')\n",
    "plt.xlabel('False positive rate')\n",
    "plt.ylabel('True positive rate')\n",
    "plt.title('ROC curve')\n",
    "plt.legend(loc='best')\n",
    "plt.show()"
   ]
  },
  {
   "cell_type": "code",
   "execution_count": 102,
   "metadata": {
    "collapsed": false
   },
   "outputs": [
    {
     "name": "stdout",
     "output_type": "stream",
     "text": [
      "RandomForestClassifier accuracy :  0.961038961039\n"
     ]
    },
    {
     "data": {
      "image/png": "[encoded data removed]",
      "text/plain": [
       "<matplotlib.figure.Figure at 0x7f0e27f191d0>"
      ]
     },
     "metadata": {},
     "output_type": "display_data"
    }
   ],
   "source": [
    "clf = RandomForestClassifier()\n",
    "clf.fit(features_train, labels_train) \n",
    "pred = clf.predict(features_test)\n",
    "print \"RandomForestClassifier accuracy : \", accuracy_score(pred, labels_test)\n",
    "\n",
    "X = features\n",
    "y = labels\n",
    "\n",
    "X_train, X_test, y_train, y_test = cross_validation.train_test_split(X, y, test_size=0.3)\n",
    "\n",
    "# The model by itself\n",
    "y_pred = clf.predict_proba(X_test)[:, 1]\n",
    "fpr, tpr, _ = roc_curve(y_test, y_pred)\n",
    "\n",
    "plt.figure(1)\n",
    "plt.plot([0, 1], [0, 1], 'k--')\n",
    "plt.plot(fpr, tpr, label='RandomForest')\n",
    "plt.xlabel('False positive rate')\n",
    "plt.ylabel('True positive rate')\n",
    "plt.title('ROC curve')\n",
    "plt.legend(loc='best')\n",
    "plt.show()"
   ]
  },
  {
   "cell_type": "code",
   "execution_count": 100,
   "metadata": {
    "collapsed": false
   },
   "outputs": [
    {
     "name": "stdout",
     "output_type": "stream",
     "text": [
      "ExtraTreesClassifier accuracy :  0.96442687747\n"
     ]
    },
    {
     "data": {
      "image/png": "[encoded data removed]",
      "text/plain": [
       "<matplotlib.figure.Figure at 0x7f0e28088810>"
      ]
     },
     "metadata": {},
     "output_type": "display_data"
    }
   ],
   "source": [
    "clf = ExtraTreesClassifier()\n",
    "clf.fit(features_train, labels_train) \n",
    "pred = clf.predict(features_test)\n",
    "print \"ExtraTreesClassifier accuracy : \", accuracy_score(pred, labels_test)\n",
    "\n",
    "X = features\n",
    "y = labels\n",
    "\n",
    "X_train, X_test, y_train, y_test = cross_validation.train_test_split(X, y, test_size=0.3)\n",
    "\n",
    "# The model by itself\n",
    "y_pred = clf.predict_proba(X_test)[:, 1]\n",
    "fpr, tpr, _ = roc_curve(y_test, y_pred)\n",
    "\n",
    "plt.figure(1)\n",
    "plt.plot([0, 1], [0, 1], 'k--')\n",
    "plt.plot(fpr, tpr, label='ExtraTrees')\n",
    "plt.xlabel('False positive rate')\n",
    "plt.ylabel('True positive rate')\n",
    "plt.title('ROC curve')\n",
    "plt.legend(loc='best')\n",
    "plt.show()"
   ]
  },
  {
   "cell_type": "code",
   "execution_count": 99,
   "metadata": {
    "collapsed": false
   },
   "outputs": [
    {
     "name": "stdout",
     "output_type": "stream",
     "text": [
      "AdaBoostClassifier accuracy :  0.939582156973\n"
     ]
    },
    {
     "data": {
      "image/png": "[encoded data removed]",
      "text/plain": [
       "<matplotlib.figure.Figure at 0x7f0e280aed90>"
      ]
     },
     "metadata": {},
     "output_type": "display_data"
    }
   ],
   "source": [
    "clf = AdaBoostClassifier()\n",
    "clf.fit(features_train, labels_train) \n",
    "pred = clf.predict(features_test)\n",
    "print \"AdaBoostClassifier accuracy : \", accuracy_score(pred, labels_test)\n",
    "\n",
    "X = features\n",
    "y = labels\n",
    "\n",
    "X_train, X_test, y_train, y_test = cross_validation.train_test_split(X, y, test_size=0.3)\n",
    "\n",
    "# The model by itself\n",
    "y_pred = clf.predict_proba(X_test)[:, 1]\n",
    "fpr, tpr, _ = roc_curve(y_test, y_pred)\n",
    "\n",
    "plt.figure(1)\n",
    "plt.plot([0, 1], [0, 1], 'k--')\n",
    "plt.plot(fpr, tpr, label='AdaBoost')\n",
    "plt.xlabel('False positive rate')\n",
    "plt.ylabel('True positive rate')\n",
    "plt.title('ROC curve')\n",
    "plt.legend(loc='best')\n",
    "plt.show()"
   ]
  },
  {
   "cell_type": "code",
   "execution_count": 98,
   "metadata": {
    "collapsed": false
   },
   "outputs": [
    {
     "name": "stdout",
     "output_type": "stream",
     "text": [
      "GaussianNB accuracy :  0.934500282326\n"
     ]
    },
    {
     "data": {
      "image/png": "[encoded data removed]",
      "text/plain": [
       "<matplotlib.figure.Figure at 0x7f0e2810f250>"
      ]
     },
     "metadata": {},
     "output_type": "display_data"
    }
   ],
   "source": [
    "clf = GaussianNB()\n",
    "clf.fit(features_train, labels_train) \n",
    "pred = clf.predict(features_test)\n",
    "print \"GaussianNB accuracy : \", accuracy_score(pred, labels_test)\n",
    "\n",
    "X = features\n",
    "y = labels\n",
    "\n",
    "X_train, X_test, y_train, y_test = cross_validation.train_test_split(X, y, test_size=0.3)\n",
    "\n",
    "# The model by itself\n",
    "y_pred = clf.predict_proba(X_test)[:, 1]\n",
    "fpr, tpr, _ = roc_curve(y_test, y_pred)\n",
    "\n",
    "plt.figure(1)\n",
    "plt.plot([0, 1], [0, 1], 'k--')\n",
    "plt.plot(fpr, tpr, label='GaussianNB')\n",
    "plt.xlabel('False positive rate')\n",
    "plt.ylabel('True positive rate')\n",
    "plt.title('ROC curve')\n",
    "plt.legend(loc='best')\n",
    "plt.show()"
   ]
  },
  {
   "cell_type": "code",
   "execution_count": 97,
   "metadata": {
    "collapsed": false
   },
   "outputs": [
    {
     "name": "stdout",
     "output_type": "stream",
     "text": [
      "LogisticRegression accuracy :  0.935629587804\n"
     ]
    },
    {
     "data": {
      "image/png": "[encoded data removed]",
      "text/plain": [
       "<matplotlib.figure.Figure at 0x7f0e2807d650>"
      ]
     },
     "metadata": {},
     "output_type": "display_data"
    }
   ],
   "source": [
    "clf = linear_model.LogisticRegression()\n",
    "clf.fit(features_train, labels_train) \n",
    "pred = clf.predict(features_test)\n",
    "print \"LogisticRegression accuracy : \", accuracy_score(pred, labels_test)\n",
    "\n",
    "X = features\n",
    "y = labels\n",
    "\n",
    "X_train, X_test, y_train, y_test = cross_validation.train_test_split(X, y, test_size=0.3)\n",
    "\n",
    "# The model by itself\n",
    "y_pred = clf.predict_proba(X_test)[:, 1]\n",
    "fpr, tpr, _ = roc_curve(y_test, y_pred)\n",
    "\n",
    "plt.figure(1)\n",
    "plt.plot([0, 1], [0, 1], 'k--')\n",
    "plt.plot(fpr, tpr, label='Logit')\n",
    "plt.xlabel('False positive rate')\n",
    "plt.ylabel('True positive rate')\n",
    "plt.title('ROC curve')\n",
    "plt.legend(loc='best')\n",
    "plt.show()\n"
   ]
  },
  {
   "cell_type": "code",
   "execution_count": null,
   "metadata": {
    "collapsed": false
   },
   "outputs": [],
   "source": []
  }
 ],
 "metadata": {
  "kernelspec": {
   "display_name": "Python 2",
   "language": "python",
   "name": "python2"
  },
  "language_info": {
   "codemirror_mode": {
    "name": "ipython",
    "version": 2
   },
   "file_extension": ".py",
   "mimetype": "text/x-python",
   "name": "python",
   "nbconvert_exporter": "python",
   "pygments_lexer": "ipython2",
   "version": "2.7.10"
  }
 },
 "nbformat": 4,
 "nbformat_minor": 0
}
