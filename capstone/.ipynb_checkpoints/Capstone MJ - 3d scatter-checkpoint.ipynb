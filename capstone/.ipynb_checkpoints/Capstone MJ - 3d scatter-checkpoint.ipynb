{
 "cells": [
  {
   "cell_type": "code",
   "execution_count": 8,
   "metadata": {
    "collapsed": false
   },
   "outputs": [
    {
     "data": {
      "text/html": [
       "<iframe id=\"igraph\" scrolling=\"no\" style=\"border:none;\"seamless=\"seamless\" src=\"https://plot.ly/~ed.sarausad/51.embed\" height=\"550px\" width=\"800px\"></iframe>"
      ],
      "text/plain": [
       "<plotly.tools.PlotlyDisplay object>"
      ]
     },
     "execution_count": 8,
     "metadata": {},
     "output_type": "execute_result"
    }
   ],
   "source": [
    "import plotly.plotly as py\n",
    "import plotly.graph_objs as go\n",
    "import pandas as pd\n",
    "df = pd.read_csv('https://www.dropbox.com/s/s168am9a1iknwi8/applicants_transformed.csv?dl=1')\n",
    "df.head()\n",
    "\n",
    "data = []\n",
    "clusters = []\n",
    "colors = ['rgb(255,255,204)','rgb(217,240,163)','rgb(173,221,142)', 'rgb(120,198,121)', 'rgb(49,163,84)', 'rgb(0,104,55)']\n",
    "\n",
    "for i in range(len(df['PrivDesc'].unique())):\n",
    "    name = df['PrivDesc'].unique()[i]\n",
    "    color = colors[i]\n",
    "    x = df[ df['PrivDesc'] == name ][\"Total_Sales\"]\n",
    "    y = df[ df['PrivDesc'] == name ][\"Excise_Tax_Due\"]\n",
    "    z = df[ df['PrivDesc'] == name ][\"violation_count\"]\n",
    "    \n",
    "    trace = dict(\n",
    "        name = name,\n",
    "        x = x, y = y, z = z,\n",
    "        type = \"scatter3d\",    \n",
    "        mode = 'markers',\n",
    "        marker = dict( size=3, color=color, line=dict(width=0) ) )\n",
    "    data.append( trace )\n",
    "\n",
    "layout = dict(\n",
    "    width=800,\n",
    "    height=550,\n",
    "    autosize=False,\n",
    "    title='Applicants',\n",
    "    scene=dict(\n",
    "        xaxis=dict(\n",
    "            gridcolor='rgb(255, 255, 255)',\n",
    "            zerolinecolor='rgb(255, 255, 255)',\n",
    "            showbackground=True,\n",
    "            backgroundcolor='rgb(230, 230,230)'\n",
    "        ),\n",
    "        yaxis=dict(\n",
    "            gridcolor='rgb(255, 255, 255)',\n",
    "            zerolinecolor='rgb(255, 255, 255)',\n",
    "            showbackground=True,\n",
    "            backgroundcolor='rgb(230, 230,230)'\n",
    "        ),\n",
    "        zaxis=dict(\n",
    "            gridcolor='rgb(255, 255, 255)',\n",
    "            zerolinecolor='rgb(255, 255, 255)',\n",
    "            showbackground=True,\n",
    "            backgroundcolor='rgb(230, 230,230)'\n",
    "        ),\n",
    "        aspectratio = dict( x=1, y=1, z=0.7 ),\n",
    "        aspectmode = 'manual'        \n",
    "    ),\n",
    ")\n",
    "\n",
    "fig = dict(data=data, layout=layout)\n",
    "\n",
    "# IPython notebook\n",
    "py.iplot(fig, filename='pandas-3d-mj', validate=False)"
   ]
  }
 ],
 "metadata": {
  "kernelspec": {
   "display_name": "Python 2",
   "language": "python",
   "name": "python2"
  },
  "language_info": {
   "codemirror_mode": {
    "name": "ipython",
    "version": 2
   },
   "file_extension": ".py",
   "mimetype": "text/x-python",
   "name": "python",
   "nbconvert_exporter": "python",
   "pygments_lexer": "ipython2",
   "version": "2.7.10"
  }
 },
 "nbformat": 4,
 "nbformat_minor": 0
}
